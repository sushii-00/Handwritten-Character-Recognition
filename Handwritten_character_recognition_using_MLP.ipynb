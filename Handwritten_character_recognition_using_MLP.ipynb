{
  "nbformat": 4,
  "nbformat_minor": 0,
  "metadata": {
    "colab": {
      "name": "Handwritten character recognition using MLP.ipynb",
      "provenance": [],
      "authorship_tag": "ABX9TyN65Ia9INxOv8c7sqkQgxXO",
      "include_colab_link": true
    },
    "kernelspec": {
      "name": "python3",
      "display_name": "Python 3"
    },
    "language_info": {
      "name": "python"
    }
  },
  "cells": [
    {
      "cell_type": "markdown",
      "metadata": {
        "id": "view-in-github",
        "colab_type": "text"
      },
      "source": [
        "<a href=\"https://colab.research.google.com/github/sushii-00/Handwritten-Character-Recognition/blob/main/Handwritten_character_recognition_using_MLP.ipynb\" target=\"_parent\"><img src=\"https://colab.research.google.com/assets/colab-badge.svg\" alt=\"Open In Colab\"/></a>"
      ]
    },
    {
      "cell_type": "markdown",
      "metadata": {
        "id": "fBqvm4m2nALh"
      },
      "source": [
        "###These are the first 4 images of our training set"
      ]
    },
    {
      "cell_type": "code",
      "metadata": {
        "colab": {
          "base_uri": "https://localhost:8080/",
          "height": 268
        },
        "id": "uL48Pgh7mprM",
        "outputId": "e8a0799b-050c-42eb-84b7-a7a6af0309f7"
      },
      "source": [
        "#plot ad hoc mnist instances\n",
        "\n",
        "from keras.datasets import mnist\n",
        "import matplotlib.pyplot as plt\n",
        "\n",
        "#load (downloaded if needed) the MNIST dataset\n",
        "(X_train, y_train), (X_test, y_test) = mnist.load_data()\n",
        "\n",
        "#plot 4 images ad gray scale\n",
        "plt.subplot(221)\n",
        "plt.imshow(X_train[0] , cmap=plt.get_cmap('gray'))\n",
        "\n",
        "plt.subplot(222)\n",
        "plt.imshow(X_train[1] , cmap=plt.get_cmap('gray'))\n",
        "\n",
        "plt.subplot(223)\n",
        "plt.imshow(X_train[2] , cmap=plt.get_cmap('gray'))\n",
        "\n",
        "plt.subplot(224)\n",
        "plt.imshow(X_train[3] , cmap=plt.get_cmap('gray'))\n",
        "\n",
        "#show the plot \n",
        "plt.show()"
      ],
      "execution_count": null,
      "outputs": [
        {
          "output_type": "display_data",
          "data": {
            "image/png": "[encoded data removed]",
            "text/plain": [
              "<Figure size 432x288 with 4 Axes>"
            ]
          },
          "metadata": {
            "tags": [],
            "needs_background": "light"
          }
        }
      ]
    },
    {
      "cell_type": "code",
      "metadata": {
        "id": "flM91cz4oDSb"
      },
      "source": [
        "from keras.models import Sequential\n",
        "from keras.layers import Dense\n",
        "from keras.layers import Dropout\n",
        "from keras.utils import np_utils\n"
      ],
      "execution_count": null,
      "outputs": []
    },
    {
      "cell_type": "code",
      "metadata": {
        "id": "ArCF7mMOoDNq"
      },
      "source": [
        "#load data\n",
        "(X_train, y_train), (X_test, y_test) = mnist.load_data()"
      ],
      "execution_count": null,
      "outputs": []
    },
    {
      "cell_type": "markdown",
      "metadata": {
        "id": "ffvR5hl7qLX8"
      },
      "source": [
        "The training dataset is structured as a 3-dimensional array of instance, image width and image height. For a multi-layer perceptron model we must reduce the images down into a vector of pixels. In this case the 28×28 sized images will be 784 pixel input values.\n",
        "\n",
        "We can do this transform easily using the reshape() function on the NumPy array. We can also reduce our memory requirements by forcing the precision of the pixel values to be 32 bit, the default precision used by Keras anyway."
      ]
    },
    {
      "cell_type": "code",
      "metadata": {
        "id": "B5qSBSfNoDH8"
      },
      "source": [
        "#flatten 28*28 images to a 784 vector for each image\n",
        "\n",
        "num_pixels = X_train.shape[1] * X_train.shape[2]\n",
        "X_train = X_train.reshape((X_train.shape[0],num_pixels)).astype('float32')\n",
        "X_test = X_test.reshape((X_test.shape[0],num_pixels)).astype('float32')"
      ],
      "execution_count": null,
      "outputs": []
    },
    {
      "cell_type": "markdown",
      "metadata": {
        "id": "juDuqZbLqNCu"
      },
      "source": [
        "The pixel values are gray scale between 0 and 255. It is almost always a good idea to perform some scaling of input values when using neural network models. Because the scale is well known and well behaved, we can very quickly normalize the pixel values to the range 0 and 1 by dividing each value by the maximum of 255."
      ]
    },
    {
      "cell_type": "code",
      "metadata": {
        "id": "VzrbrSLcqbrI"
      },
      "source": [
        "#normalise inputs from 0-255 to 0-1\n",
        "\n",
        "X_train = X_train/255\n",
        "\n",
        "X_test = X_test/255"
      ],
      "execution_count": null,
      "outputs": []
    },
    {
      "cell_type": "markdown",
      "metadata": {
        "id": "nLftEP87qpio"
      },
      "source": [
        "Finally, the output variable is an integer from 0 to 9. This is a multi-class classification problem. As such, it is good practice to use a one hot encoding of the class values, transforming the vector of class integers into a binary matrix.\n",
        "\n",
        "We can easily do this using the built-in np_utils.to_categorical() helper function in Keras."
      ]
    },
    {
      "cell_type": "code",
      "metadata": {
        "id": "KYLx9RGZq3NW"
      },
      "source": [
        "#One- hot encoding the outputs\n",
        "y_train = np_utils.to_categorical(y_train)\n",
        "y_test = np_utils.to_categorical(y_test)\n",
        "num_classes = y_test.shape[1]"
      ],
      "execution_count": null,
      "outputs": []
    },
    {
      "cell_type": "markdown",
      "metadata": {
        "id": "ZPiJCX1NrNDc"
      },
      "source": [
        "We are now ready to create our simple neural network model. We will define our model in a function. This is handy if you want to extend the example later and try and get a better score."
      ]
    },
    {
      "cell_type": "code",
      "metadata": {
        "id": "ks5rxFpmrVXu"
      },
      "source": [
        "#define baseline model\n",
        "def baseline_model():\n",
        "  #create model\n",
        "  model = Sequential()\n",
        "  model.add(Dense(num_pixels, input_dim=num_pixels, kernel_initializer = 'normal', activation= 'relu'))\n",
        "  model.add(Dense(num_classes, kernel_initializer='normal', activation = 'softmax'))\n",
        "\n",
        "  #compile model\n",
        "  model.compile(loss = 'categorical_crossentropy', optimizer = 'adam', metrics= ['accuracy'])\n",
        "  return model"
      ],
      "execution_count": null,
      "outputs": []
    },
    {
      "cell_type": "markdown",
      "metadata": {
        "id": "-5MpJWkhsUW7"
      },
      "source": [
        "The model is a simple neural network with one hidden layer with the same number of neurons as there are inputs (784). A rectifier activation function is used for the neurons in the hidden layer.\n",
        "\n",
        "A softmax activation function is used on the output layer to turn the outputs into probability-like values and allow one class of the 10 to be selected as the model’s output prediction. Logarithmic loss is used as the loss function (called categorical_crossentropy in Keras) and the efficient ADAM gradient descent algorithm is used to learn the weights.\n",
        "\n",
        "We can now fit and evaluate the model. The model is fit over 10 epochs with updates every 200 images. The test data is used as the validation dataset, allowing you to see the skill of the model as it trains. A verbose value of 2 is used to reduce the output to one line for each training epoch.\n",
        "\n",
        "Finally, the test dataset is used to evaluate the model and a classification error rate is printed."
      ]
    },
    {
      "cell_type": "code",
      "metadata": {
        "colab": {
          "base_uri": "https://localhost:8080/"
        },
        "id": "HonAC1uCsnwU",
        "outputId": "e89a7f8c-a260-449c-b2ad-d713ea405ffa"
      },
      "source": [
        "#build the model\n",
        "model = baseline_model()\n",
        "#fit the model\n",
        "model.fit(X_train, y_train,validation_data = (X_test, y_test), epochs = 10, batch_size=200, verbose =2)\n",
        "\n",
        "#final evaluation of the model\n",
        "scores = model.evaluate(X_test, y_test, verbose=0)\n",
        "#print(\"Baseline Error: %.2f%%\" %(100-scores[1]*100))"
      ],
      "execution_count": null,
      "outputs": [
        {
          "output_type": "stream",
          "text": [
            "Epoch 1/10\n",
            "300/300 - 9s - loss: 0.2138 - accuracy: 0.9369 - val_loss: 0.1052 - val_accuracy: 0.9679\n",
            "Epoch 2/10\n",
            "300/300 - 9s - loss: 0.0741 - accuracy: 0.9766 - val_loss: 0.0719 - val_accuracy: 0.9777\n",
            "Epoch 3/10\n",
            "300/300 - 9s - loss: 0.0441 - accuracy: 0.9854 - val_loss: 0.0649 - val_accuracy: 0.9787\n",
            "Epoch 4/10\n",
            "300/300 - 9s - loss: 0.0296 - accuracy: 0.9904 - val_loss: 0.0793 - val_accuracy: 0.9751\n",
            "Epoch 5/10\n",
            "300/300 - 9s - loss: 0.0209 - accuracy: 0.9934 - val_loss: 0.0723 - val_accuracy: 0.9799\n",
            "Epoch 6/10\n",
            "300/300 - 9s - loss: 0.0158 - accuracy: 0.9952 - val_loss: 0.0794 - val_accuracy: 0.9796\n",
            "Epoch 7/10\n",
            "300/300 - 8s - loss: 0.0154 - accuracy: 0.9947 - val_loss: 0.0975 - val_accuracy: 0.9733\n",
            "Epoch 8/10\n",
            "300/300 - 9s - loss: 0.0158 - accuracy: 0.9946 - val_loss: 0.0776 - val_accuracy: 0.9799\n",
            "Epoch 9/10\n",
            "300/300 - 9s - loss: 0.0135 - accuracy: 0.9955 - val_loss: 0.0939 - val_accuracy: 0.9779\n",
            "Epoch 10/10\n",
            "300/300 - 9s - loss: 0.0148 - accuracy: 0.9951 - val_loss: 0.0921 - val_accuracy: 0.9785\n"
          ],
          "name": "stdout"
        }
      ]
    },
    {
      "cell_type": "code",
      "metadata": {
        "colab": {
          "base_uri": "https://localhost:8080/"
        },
        "id": "D0bbWt2tsnnJ",
        "outputId": "51816bee-6d08-4547-fd75-0a958680a846"
      },
      "source": [
        "print(\"Baseline Error: %.2f%%\" %(100-scores[1]*100))"
      ],
      "execution_count": null,
      "outputs": [
        {
          "output_type": "stream",
          "text": [
            "Baseline Error: 2.15%\n"
          ],
          "name": "stdout"
        }
      ]
    },
    {
      "cell_type": "markdown",
      "metadata": {
        "id": "Xqw_wFTwtz6V"
      },
      "source": [
        "* epochs = 10, batch_size= 200 => error = 1.73%\n",
        "* increasing epochs doesn't affect the accuracy\n",
        "* decreasing the batch_size=100 => error = 1.82%\n",
        "* increasing the hidden layers to 2 layers => error=2.15%"
      ]
    },
    {
      "cell_type": "code",
      "metadata": {
        "id": "EXdtvPSavEug"
      },
      "source": [
        ""
      ],
      "execution_count": null,
      "outputs": []
    }
  ]
}